{
 "cells": [
  {
   "cell_type": "markdown",
   "metadata": {},
   "source": [
    "```\n",
    "The module for Predicting Credit Card Fraud.\n",
    "Author: Amer Ahmed\n",
    "Supervisor: Joakim Wassberg\n",
    "Version 0.0\n",
    "```\n",
    "\n",
    "```\n",
    "The goal for this analysis is to predict credit card fraud in the transactional data.\n",
    "Iam using tensorflow to build the predictive model, and t-SNE to visualize the dataset\n",
    "in two dimensions at the end of this analysis.The sections of this analysis include\n",
    "``` \n",
    "\n",
    " - Exploring the Data\n",
    " - Building the Neural Network \n",
    " - Visualizing the Data with t-SNE."
   ]
  },
  {
   "cell_type": "code",
   "execution_count": 1,
   "metadata": {},
   "outputs": [],
   "source": [
    "import pandas as pd\n",
    "import numpy as np \n",
    "import tensorflow as tf\n",
    "from sklearn.model_selection import train_test_split\n",
    "import matplotlib.pyplot as plt\n",
    "from sklearn.utils import shuffle\n",
    "from sklearn.metrics import confusion_matrix\n",
    "import seaborn as sns\n",
    "import matplotlib.gridspec as gridspec\n",
    "from sklearn.preprocessing import StandardScaler\n",
    "from sklearn.manifold import TSNE\n",
    "import warnings\n",
    "warnings.filterwarnings('ignore')"
   ]
  }
 ],
 "metadata": {
  "interpreter": {
   "hash": "a5ad3a5b41658241f5e8cf46245c919665ce2b6faeccdae3a98617fb9be34d4d"
  },
  "kernelspec": {
   "display_name": "Python 3.9.7 ('base')",
   "language": "python",
   "name": "python3"
  },
  "language_info": {
   "codemirror_mode": {
    "name": "ipython",
    "version": 3
   },
   "file_extension": ".py",
   "mimetype": "text/x-python",
   "name": "python",
   "nbconvert_exporter": "python",
   "pygments_lexer": "ipython3",
   "version": "3.9.7"
  },
  "orig_nbformat": 4
 },
 "nbformat": 4,
 "nbformat_minor": 2
}
