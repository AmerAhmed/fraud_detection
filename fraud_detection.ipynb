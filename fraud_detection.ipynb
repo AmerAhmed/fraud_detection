{
 "cells": [
  {
   "cell_type": "markdown",
   "metadata": {},
   "source": [
    "```\n",
    "The module for Predicting Credit Card Fraud.\n",
    "Author: Amer Ahmed\n",
    "Supervisor: Joakim Wassberg\n",
    "Version 0.0\n",
    "```\n",
    "\n",
    "```\n",
    "The goal for this analysis is to predict credit card fraud in the transactional data.\n",
    "Iam using tensorflow to build the predictive model, and t-SNE to visualize the dataset\n",
    "in two dimensions at the end of this analysis.The sections of this analysis include\n",
    "``` \n",
    "\n",
    " - Exploring the Data\n",
    " - Building the Neural Network \n",
    " - Visualizing the Data with t-SNE."
   ]
  },
  {
   "cell_type": "markdown",
   "metadata": {},
   "source": []
  }
 ],
 "metadata": {
  "interpreter": {
   "hash": "a5ad3a5b41658241f5e8cf46245c919665ce2b6faeccdae3a98617fb9be34d4d"
  },
  "kernelspec": {
   "display_name": "Python 3.9.7 ('base')",
   "language": "python",
   "name": "python3"
  },
  "language_info": {
   "name": "python",
   "version": "3.9.7"
  },
  "orig_nbformat": 4
 },
 "nbformat": 4,
 "nbformat_minor": 2
}
